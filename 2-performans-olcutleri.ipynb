{
 "cells": [
  {
   "cell_type": "code",
   "execution_count": 37,
   "metadata": {},
   "outputs": [],
   "source": [
    "import cv2 as cv \n",
    "import numpy as np\n"
   ]
  },
  {
   "cell_type": "code",
   "execution_count": 38,
   "metadata": {},
   "outputs": [],
   "source": [
    "img = cv.imread('img/opencvlogo.png',cv.IMREAD_GRAYSCALE)"
   ]
  },
  {
   "cell_type": "code",
   "execution_count": 39,
   "metadata": {},
   "outputs": [
    {
     "name": "stdout",
     "output_type": "stream",
     "text": [
      "min_val:  0.0\n",
      "max_val:  150.0\n",
      "min_lokasyon:  (0, 0)\n",
      "max_lokasyon:  (173, 368)\n"
     ]
    }
   ],
   "source": [
    "#piksel değerlerine erişim\n",
    "min_val, max_val, min_loc, max_loc = cv.minMaxLoc(img)\n",
    "print(\"min_val: \",min_val)\n",
    "print(\"max_val: \",max_val)\n",
    "print(\"min_lokasyon: \",min_loc)\n",
    "print(\"max_lokasyon: \",max_loc)"
   ]
  },
  {
   "cell_type": "code",
   "execution_count": 40,
   "metadata": {},
   "outputs": [
    {
     "name": "stdout",
     "output_type": "stream",
     "text": [
      "means:  [[25.2355033]]\n",
      "stddev:  [[46.97501311]]\n"
     ]
    }
   ],
   "source": [
    "means, stddev = cv.meanStdDev(img)\n",
    "print(\"means: \",means)\n",
    "print(\"stddev: \",stddev) #standart sapma"
   ]
  },
  {
   "cell_type": "code",
   "execution_count": 41,
   "metadata": {},
   "outputs": [],
   "source": [
    "img[np.where(img<means)] = 0\n",
    "img[np.where(img>means)] = 255"
   ]
  },
  {
   "cell_type": "code",
   "execution_count": 42,
   "metadata": {},
   "outputs": [],
   "source": [
    "cv.imshow('Image', img)\n"
   ]
  },
  {
   "cell_type": "code",
   "execution_count": 43,
   "metadata": {},
   "outputs": [],
   "source": [
    "cv.waitKey(0)\n",
    "cv.destroyAllWindows()"
   ]
  }
 ],
 "metadata": {
  "kernelspec": {
   "display_name": "Python 3",
   "language": "python",
   "name": "python3"
  },
  "language_info": {
   "codemirror_mode": {
    "name": "ipython",
    "version": 3
   },
   "file_extension": ".py",
   "mimetype": "text/x-python",
   "name": "python",
   "nbconvert_exporter": "python",
   "pygments_lexer": "ipython3",
   "version": "3.11.5"
  }
 },
 "nbformat": 4,
 "nbformat_minor": 2
}
