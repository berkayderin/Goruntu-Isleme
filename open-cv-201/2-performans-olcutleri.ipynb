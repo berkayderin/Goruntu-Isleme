{
 "cells": [
  {
   "cell_type": "code",
   "execution_count": 5,
   "metadata": {},
   "outputs": [],
   "source": [
    "import cv2 as cv \n",
    "import numpy as np\n"
   ]
  },
  {
   "cell_type": "code",
   "execution_count": 6,
   "metadata": {},
   "outputs": [],
   "source": [
    "img = cv.imread('../img/opencvlogo.png',cv.IMREAD_GRAYSCALE)"
   ]
  },
  {
   "cell_type": "code",
   "execution_count": 7,
   "metadata": {},
   "outputs": [
    {
     "name": "stdout",
     "output_type": "stream",
     "text": [
      "min_val:  0.0\n",
      "max_val:  0.0\n",
      "min_lokasyon:  (0, 0)\n",
      "max_lokasyon:  (0, 0)\n"
     ]
    }
   ],
   "source": [
    "#piksel değerlerine erişim\n",
    "min_val, max_val, min_loc, max_loc = cv.minMaxLoc(img)\n",
    "print(\"min_val: \",min_val)\n",
    "print(\"max_val: \",max_val)\n",
    "print(\"min_lokasyon: \",min_loc)\n",
    "print(\"max_lokasyon: \",max_loc)"
   ]
  },
  {
   "cell_type": "code",
   "execution_count": 8,
   "metadata": {},
   "outputs": [
    {
     "ename": "error",
     "evalue": "OpenCV(4.9.0) D:\\a\\opencv-python\\opencv-python\\opencv\\modules\\core\\src\\mean.dispatch.cpp:520: error: (-215:Assertion failed) !_src.empty() in function 'cv::meanStdDev'\n",
     "output_type": "error",
     "traceback": [
      "\u001b[1;31m---------------------------------------------------------------------------\u001b[0m",
      "\u001b[1;31merror\u001b[0m                                     Traceback (most recent call last)",
      "Cell \u001b[1;32mIn[8], line 1\u001b[0m\n\u001b[1;32m----> 1\u001b[0m means, stddev \u001b[38;5;241m=\u001b[39m \u001b[43mcv\u001b[49m\u001b[38;5;241;43m.\u001b[39;49m\u001b[43mmeanStdDev\u001b[49m\u001b[43m(\u001b[49m\u001b[43mimg\u001b[49m\u001b[43m)\u001b[49m\n\u001b[0;32m      2\u001b[0m \u001b[38;5;28mprint\u001b[39m(\u001b[38;5;124m\"\u001b[39m\u001b[38;5;124mmeans: \u001b[39m\u001b[38;5;124m\"\u001b[39m,means)\n\u001b[0;32m      3\u001b[0m \u001b[38;5;28mprint\u001b[39m(\u001b[38;5;124m\"\u001b[39m\u001b[38;5;124mstddev: \u001b[39m\u001b[38;5;124m\"\u001b[39m,stddev) \u001b[38;5;66;03m#standart sapma\u001b[39;00m\n",
      "\u001b[1;31merror\u001b[0m: OpenCV(4.9.0) D:\\a\\opencv-python\\opencv-python\\opencv\\modules\\core\\src\\mean.dispatch.cpp:520: error: (-215:Assertion failed) !_src.empty() in function 'cv::meanStdDev'\n"
     ]
    }
   ],
   "source": [
    "means, stddev = cv.meanStdDev(img)\n",
    "print(\"means: \",means)\n",
    "print(\"stddev: \",stddev) #standart sapma"
   ]
  },
  {
   "cell_type": "code",
   "execution_count": null,
   "metadata": {},
   "outputs": [],
   "source": [
    "img[np.where(img<means)] = 0\n",
    "img[np.where(img>means)] = 255"
   ]
  },
  {
   "cell_type": "code",
   "execution_count": null,
   "metadata": {},
   "outputs": [],
   "source": [
    "cv.imshow('Image', img)\n"
   ]
  },
  {
   "cell_type": "code",
   "execution_count": null,
   "metadata": {},
   "outputs": [],
   "source": [
    "cv.waitKey(0)\n",
    "cv.destroyAllWindows()"
   ]
  }
 ],
 "metadata": {
  "kernelspec": {
   "display_name": "Python 3",
   "language": "python",
   "name": "python3"
  },
  "language_info": {
   "codemirror_mode": {
    "name": "ipython",
    "version": 3
   },
   "file_extension": ".py",
   "mimetype": "text/x-python",
   "name": "python",
   "nbconvert_exporter": "python",
   "pygments_lexer": "ipython3",
   "version": "3.11.5"
  }
 },
 "nbformat": 4,
 "nbformat_minor": 2
}
