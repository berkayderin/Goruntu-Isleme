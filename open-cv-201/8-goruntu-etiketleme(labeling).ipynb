{
 "cells": [
  {
   "cell_type": "markdown",
   "metadata": {},
   "source": []
  },
  {
   "cell_type": "code",
   "execution_count": 8,
   "metadata": {},
   "outputs": [],
   "source": [
    "import cv2 as cv \n",
    "import numpy as np"
   ]
  },
  {
   "cell_type": "code",
   "execution_count": 9,
   "metadata": {},
   "outputs": [],
   "source": [
    "image = cv.imread('../img/coins_filled.jpg',0 ) # görüntü okundu ve gri tonlamaya çevrildi\n",
    "thresh, image2 = cv.threshold(image, 0, 255, cv.THRESH_BINARY + cv.THRESH_OTSU)"
   ]
  },
  {
   "cell_type": "code",
   "execution_count": 10,
   "metadata": {},
   "outputs": [],
   "source": [
    "numlabels, labels, stats, centroids = cv.connectedComponentsWithStats(image2) # bağlantılı bileşenler bulundu"
   ]
  },
  {
   "cell_type": "code",
   "execution_count": 11,
   "metadata": {},
   "outputs": [
    {
     "name": "stdout",
     "output_type": "stream",
     "text": [
      "Toplam nesne sayısı: 10\n",
      "Nesnelerin özellikleri: [[    0     0   300   246 50664]\n",
      " [  119     6    58    55  2509]\n",
      " [   31    26    50    47  1854]\n",
      " [  187    42    59    56  2538]\n",
      " [   85    61    49    47  1810]\n",
      " [    7    78    60    56  2650]\n",
      " [  240    78    50    48  1863]\n",
      " [  145    91    59    56  2592]\n",
      " [   66   117    60    57  2678]\n",
      " [  210   149    51    48  1891]\n",
      " [   90   179    60    58  2751]]\n",
      "Nesnelerin ağırlık merkezleri: [[152.92365388 127.76827728]\n",
      " [147.54842567  33.44838581]\n",
      " [ 55.14509169  48.86245955]\n",
      " [215.92592593  69.80299448]\n",
      " [109.05966851  83.9281768 ]\n",
      " [ 36.14075472 105.72150943]\n",
      " [264.80944713 101.6129898 ]\n",
      " [173.83024691 118.98032407]\n",
      " [ 95.21396565 145.08364451]\n",
      " [235.06768905 172.35854045]\n",
      " [119.35405307 207.68338786]]\n"
     ]
    }
   ],
   "source": [
    "print('Toplam nesne sayısı:', numlabels-1) # arkaplanı da saydığı için 1 çıkarıldı\n",
    "print('Nesnelerin özellikleri:', stats)\n",
    "print('Nesnelerin ağırlık merkezleri:', centroids)"
   ]
  },
  {
   "cell_type": "code",
   "execution_count": 12,
   "metadata": {},
   "outputs": [],
   "source": [
    "image_bgr = np.zeros((image.shape[0], image.shape[1], 3), dtype=np.uint8) # renkli görüntü oluşturuldu\n",
    "image_bgr[:,:,0] = image_bgr[:,:,1] = image_bgr[:,:,2] = image # gri tonlamalı görüntü renkliye çevrildi"
   ]
  },
  {
   "cell_type": "code",
   "execution_count": 13,
   "metadata": {},
   "outputs": [],
   "source": [
    "for i in range(1, numlabels):\n",
    "    x, y, w, h, area = stats[i]\n",
    "    cv.rectangle(image_bgr, (x, y), (x+w, y+h), (0, 255, 0), 2) # nesnelerin etrafına dikdörtgen çizildi\n",
    "    cv.putText(image_bgr, str(i), (x, y), cv.FONT_HERSHEY_SIMPLEX, 0.5, (255, 255, 255), 2) # nesnelerin üzerine etiket yazıldı\n",
    "    \n"
   ]
  },
  {
   "cell_type": "code",
   "execution_count": 14,
   "metadata": {},
   "outputs": [],
   "source": [
    "cv.imshow('original', image)\n",
    "cv.imshow('1.görüntü:', np.uint8(labels==1)*255)\n",
    "cv.imshow('2.görüntü:', np.uint8(labels==2)*255)\n",
    "cv.imshow('Görüntü', image_bgr) \n",
    "\n",
    "cv.waitKey(0)\n",
    "cv.destroyAllWindows()"
   ]
  }
 ],
 "metadata": {
  "kernelspec": {
   "display_name": "Python 3",
   "language": "python",
   "name": "python3"
  },
  "language_info": {
   "codemirror_mode": {
    "name": "ipython",
    "version": 3
   },
   "file_extension": ".py",
   "mimetype": "text/x-python",
   "name": "python",
   "nbconvert_exporter": "python",
   "pygments_lexer": "ipython3",
   "version": "3.11.5"
  }
 },
 "nbformat": 4,
 "nbformat_minor": 2
}
