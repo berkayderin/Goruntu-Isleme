{
 "cells": [
  {
   "cell_type": "code",
   "execution_count": 10,
   "metadata": {},
   "outputs": [],
   "source": [
    "import cv2 as cv\n",
    "import numpy as np"
   ]
  },
  {
   "cell_type": "code",
   "execution_count": 11,
   "metadata": {},
   "outputs": [],
   "source": [
    "image = cv.imread('../img/coins.png')"
   ]
  },
  {
   "cell_type": "code",
   "execution_count": 12,
   "metadata": {},
   "outputs": [],
   "source": [
    "th, image2 = cv.threshold(image, 127, 255, cv.THRESH_BINARY)"
   ]
  },
  {
   "cell_type": "code",
   "execution_count": 13,
   "metadata": {},
   "outputs": [
    {
     "name": "stdout",
     "output_type": "stream",
     "text": [
      "h:  246 w:  300\n"
     ]
    }
   ],
   "source": [
    "h, w = image2.shape[:2]\n",
    "print(\"h: \", h, \"w: \", w)"
   ]
  },
  {
   "cell_type": "code",
   "execution_count": 14,
   "metadata": {},
   "outputs": [],
   "source": [
    "image3 = image2.copy()"
   ]
  },
  {
   "cell_type": "code",
   "execution_count": 15,
   "metadata": {},
   "outputs": [
    {
     "data": {
      "text/plain": [
       "(50664,\n",
       " array([[[255,   0,   0],\n",
       "         [255,   0,   0],\n",
       "         [255,   0,   0],\n",
       "         ...,\n",
       "         [255,   0,   0],\n",
       "         [255,   0,   0],\n",
       "         [255,   0,   0]],\n",
       " \n",
       "        [[255,   0,   0],\n",
       "         [255,   0,   0],\n",
       "         [255,   0,   0],\n",
       "         ...,\n",
       "         [255,   0,   0],\n",
       "         [255,   0,   0],\n",
       "         [255,   0,   0]],\n",
       " \n",
       "        [[255,   0,   0],\n",
       "         [255,   0,   0],\n",
       "         [255,   0,   0],\n",
       "         ...,\n",
       "         [255,   0,   0],\n",
       "         [255,   0,   0],\n",
       "         [255,   0,   0]],\n",
       " \n",
       "        ...,\n",
       " \n",
       "        [[255,   0,   0],\n",
       "         [255,   0,   0],\n",
       "         [255,   0,   0],\n",
       "         ...,\n",
       "         [255,   0,   0],\n",
       "         [255,   0,   0],\n",
       "         [255,   0,   0]],\n",
       " \n",
       "        [[255,   0,   0],\n",
       "         [255,   0,   0],\n",
       "         [255,   0,   0],\n",
       "         ...,\n",
       "         [255,   0,   0],\n",
       "         [255,   0,   0],\n",
       "         [255,   0,   0]],\n",
       " \n",
       "        [[255,   0,   0],\n",
       "         [255,   0,   0],\n",
       "         [255,   0,   0],\n",
       "         ...,\n",
       "         [255,   0,   0],\n",
       "         [255,   0,   0],\n",
       "         [255,   0,   0]]], dtype=uint8),\n",
       " array([[1, 1, 1, ..., 1, 1, 1],\n",
       "        [1, 1, 1, ..., 1, 1, 1],\n",
       "        [1, 1, 1, ..., 1, 1, 1],\n",
       "        ...,\n",
       "        [1, 1, 1, ..., 1, 1, 1],\n",
       "        [1, 1, 1, ..., 1, 1, 1],\n",
       "        [1, 1, 1, ..., 1, 1, 1]], dtype=uint8),\n",
       " (0, 0, 300, 246))"
      ]
     },
     "execution_count": 15,
     "metadata": {},
     "output_type": "execute_result"
    }
   ],
   "source": [
    "mask = np.zeros((h+2, w+2), np.uint8) \n",
    "cv.floodFill(image3, mask, (0, 0), 255)"
   ]
  },
  {
   "cell_type": "code",
   "execution_count": 16,
   "metadata": {},
   "outputs": [],
   "source": [
    "image4 = cv.bitwise_not(image3)\n",
    "sonuc = image2 | image4"
   ]
  },
  {
   "cell_type": "code",
   "execution_count": 17,
   "metadata": {},
   "outputs": [],
   "source": [
    "cv.imshow(\"original\", image)\n",
    "cv.imshow(\"binary\", image2)\n",
    "cv.imshow(\"floodfill\", image3)\n",
    "cv.imshow(\"bitwise_not\", image4)\n",
    "cv.imshow(\"result\", sonuc)"
   ]
  },
  {
   "cell_type": "code",
   "execution_count": 18,
   "metadata": {},
   "outputs": [],
   "source": [
    "cv.waitKey(0)\n",
    "cv.destroyAllWindows()"
   ]
  }
 ],
 "metadata": {
  "kernelspec": {
   "display_name": "Python 3",
   "language": "python",
   "name": "python3"
  },
  "language_info": {
   "codemirror_mode": {
    "name": "ipython",
    "version": 3
   },
   "file_extension": ".py",
   "mimetype": "text/x-python",
   "name": "python",
   "nbconvert_exporter": "python",
   "pygments_lexer": "ipython3",
   "version": "3.11.5"
  }
 },
 "nbformat": 4,
 "nbformat_minor": 2
}
