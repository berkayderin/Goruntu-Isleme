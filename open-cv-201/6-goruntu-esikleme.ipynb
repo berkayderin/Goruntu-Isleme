{
 "cells": [
  {
   "cell_type": "code",
   "execution_count": 21,
   "metadata": {},
   "outputs": [],
   "source": [
    "import cv2 as cv\n",
    "import numpy as np"
   ]
  },
  {
   "cell_type": "code",
   "execution_count": 22,
   "metadata": {},
   "outputs": [],
   "source": [
    "image = cv.imread('img/threshold.jpg')"
   ]
  },
  {
   "cell_type": "code",
   "execution_count": 23,
   "metadata": {},
   "outputs": [],
   "source": [
    "# temel eşikleme (thresholding)\n",
    "th, dst = cv.threshold(image, 127, 255, cv.THRESH_BINARY) # 127'den küçük olanları 0 yapar, büyük olanları 255 yapar (siyah-beyaz)"
   ]
  },
  {
   "cell_type": "code",
   "execution_count": 24,
   "metadata": {},
   "outputs": [],
   "source": [
    "# maxvalue 182 yaparsak 127'den küçük olanları 0 yapar, büyük olanları 182 yapar\n",
    "th, dst2 = cv.threshold(image, 127, 182, cv.THRESH_BINARY)"
   ]
  },
  {
   "cell_type": "code",
   "execution_count": 25,
   "metadata": {},
   "outputs": [],
   "source": [
    "# 0 - 255 arasında bir değer verir\n",
    "th, dst3 = cv.threshold(image, 0, 255, cv.THRESH_BINARY)"
   ]
  },
  {
   "cell_type": "code",
   "execution_count": 26,
   "metadata": {},
   "outputs": [],
   "source": [
    "cv.imshow('Original Image', image)\n",
    "cv.imshow('Threshold Image', dst)\n",
    "cv.imshow('Threshold Image 2', dst2)\n",
    "cv.imshow('Threshold Image 3', dst3)\n",
    "\n",
    "\n",
    "cv.waitKey(0)\n",
    "cv.destroyAllWindows()"
   ]
  }
 ],
 "metadata": {
  "kernelspec": {
   "display_name": "Python 3",
   "language": "python",
   "name": "python3"
  },
  "language_info": {
   "codemirror_mode": {
    "name": "ipython",
    "version": 3
   },
   "file_extension": ".py",
   "mimetype": "text/x-python",
   "name": "python",
   "nbconvert_exporter": "python",
   "pygments_lexer": "ipython3",
   "version": "3.11.5"
  }
 },
 "nbformat": 4,
 "nbformat_minor": 2
}
